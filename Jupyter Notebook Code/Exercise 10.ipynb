{
  "metadata": {
    "kernelspec": {
      "name": "python",
      "display_name": "Python (Pyodide)",
      "language": "python"
    },
    "language_info": {
      "codemirror_mode": {
        "name": "python",
        "version": 3
      },
      "file_extension": ".py",
      "mimetype": "text/x-python",
      "name": "python",
      "nbconvert_exporter": "python",
      "pygments_lexer": "ipython3",
      "version": "3.8"
    }
  },
  "nbformat_minor": 4,
  "nbformat": 4,
  "cells": [
    {
      "cell_type": "code",
      "source": "# Introduction\n\nIn this notebook, the fundamental concepts and applications of machine learning are examined.\n\n---\n\n**Objectives:**\n\n- List popular languages for Data Science\n- Identify commonly used libraries in Data Science\n- Create simple arithmetic expressions in Python\n- Convert units of measure using Python code\n- Understand development environment tools for Data Science",
      "metadata": {
        "trusted": true
      },
      "outputs": [],
      "execution_count": null
    },
    {
      "cell_type": "markdown",
      "source": "# Introduction\n\nIn this notebook, the fundamental concepts and applications of machine learning are examined.\n\n---\n\n**Objectives:**\n\n- List popular languages for Data Science\n- Identify commonly used libraries in Data Science\n- Create simple arithmetic expressions in Python\n- Convert units of measure using Python code\n- Understand development environment tools for Data Science\n",
      "metadata": {}
    }
  ]
}