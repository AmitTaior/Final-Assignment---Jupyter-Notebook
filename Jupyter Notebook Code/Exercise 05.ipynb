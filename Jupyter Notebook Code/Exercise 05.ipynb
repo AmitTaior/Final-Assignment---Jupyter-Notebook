{
  "metadata": {
    "kernelspec": {
      "name": "python",
      "display_name": "Python (Pyodide)",
      "language": "python"
    },
    "language_info": {
      "codemirror_mode": {
        "name": "python",
        "version": 3
      },
      "file_extension": ".py",
      "mimetype": "text/x-python",
      "name": "python",
      "nbconvert_exporter": "python",
      "pygments_lexer": "ipython3",
      "version": "3.8"
    }
  },
  "nbformat_minor": 4,
  "nbformat": 4,
  "cells": [
    {
      "cell_type": "code",
      "source": "# Some of the commonly used libraries used by Data Scientists include:\n\n1. NumPy\n2. Pandas\n3. Scikit-learn\n4. TensorFlow\n5. Matplotlib\n6. Seaborn",
      "metadata": {
        "trusted": true
      },
      "outputs": [],
      "execution_count": null
    },
    {
      "cell_type": "markdown",
      "source": "# Some of the commonly used libraries used by Data Scientists include:\n\n1. NumPy\n2. Pandas\n3. Scikit-learn\n4. TensorFlow\n5. Matplotlib\n6. Seaborn",
      "metadata": {}
    }
  ]
}